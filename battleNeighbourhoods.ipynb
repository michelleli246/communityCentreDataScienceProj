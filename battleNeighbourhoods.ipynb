{
 "cells": [
  {
   "cell_type": "markdown",
   "metadata": {},
   "source": [
    "# Battle of the Neighbourhoods"
   ]
  },
  {
   "cell_type": "markdown",
   "metadata": {},
   "source": [
    "### Introduction"
   ]
  },
  {
   "cell_type": "markdown",
   "metadata": {},
   "source": [
    "I will be examining which location in Toronto will be the best to open a new community centre. Constructing a community centre is expensive, so the city would like to know which location would be accessible and beneficial to the most people. \n",
    "\n",
    "The targeted audience for this project would be the city developers determining the location of the community centre."
   ]
  },
  {
   "cell_type": "markdown",
   "metadata": {},
   "source": [
    "### Data"
   ]
  },
  {
   "cell_type": "markdown",
   "metadata": {},
   "source": [
    "The data that will be used will be Foursquare location data to examine how close the location is to public transit and schools. Demographic information from \"https://en.wikipedia.org/wiki/Demographics_of_Toronto_neighbourhoods\" will provide details on population data. Community centre location data will be taken from \"https://www.toronto.ca/data/parks/prd/facilities/recreationcentres/index.html\""
   ]
  },
  {
   "cell_type": "code",
   "execution_count": null,
   "metadata": {},
   "outputs": [],
   "source": []
  }
 ],
 "metadata": {
  "kernelspec": {
   "display_name": "Python 3",
   "language": "python",
   "name": "python3"
  },
  "language_info": {
   "codemirror_mode": {
    "name": "ipython",
    "version": 3
   },
   "file_extension": ".py",
   "mimetype": "text/x-python",
   "name": "python",
   "nbconvert_exporter": "python",
   "pygments_lexer": "ipython3",
   "version": "3.6.8"
  }
 },
 "nbformat": 4,
 "nbformat_minor": 2
}
